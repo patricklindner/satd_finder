{
 "cells": [
  {
   "cell_type": "code",
   "execution_count": 1,
   "id": "initial_id",
   "metadata": {
    "collapsed": true,
    "ExecuteTime": {
     "end_time": "2024-02-02T16:07:37.358593256Z",
     "start_time": "2024-02-02T16:07:36.517835647Z"
    }
   },
   "outputs": [],
   "source": [
    "import csv\n",
    "import datetime\n",
    "import os\n",
    "import matplotlib.pyplot as plt\n",
    "\n",
    "import pandas as pd\n",
    "from pandas import DataFrame"
   ]
  },
  {
   "cell_type": "code",
   "outputs": [],
   "source": [
    "\"\"\"\n",
    "created the describe dataset, with mean SATD values per project\n",
    "\"\"\"\n",
    "\n",
    "input_folder = \"data/aggregated_satd\"\n",
    "files = os.listdir(input_folder)\n",
    "\n",
    "\n",
    "def create_row(name: str, df: DataFrame):\n",
    "    return [\n",
    "        name,\n",
    "        df[\"code|design-debt\"].mean(),\n",
    "        df[\"requirement-debt\"].mean(),\n",
    "        df[\"documentation-debt\"].mean(),\n",
    "        df[\"test-debt\"].mean(),\n",
    "        datetime.datetime.fromtimestamp(df[\"timestamp\"].min())]\n",
    "\n",
    "\n",
    "with open(\"data/describe.csv\", mode=\"w\") as file:\n",
    "    writer = csv.writer(file)\n",
    "    writer.writerow(\n",
    "        [\"project\", \"mean-code|design-debt\", \"mean-requirement-debt\", \"mean-documentation-debt\", \"mean-test-debt\",\n",
    "         \"first-commit-at\"])\n",
    "    for file in files:\n",
    "        name = file.split(\".\")[0].split(\"_\")[0]\n",
    "        df = pd.read_csv(f\"{input_folder}/{file}\")\n",
    "        writer.writerow(create_row(name, df))\n"
   ],
   "metadata": {
    "collapsed": false
   },
   "id": "3c2d5a68677970ac",
   "execution_count": null
  },
  {
   "cell_type": "code",
   "outputs": [],
   "source": [
    "df = (pd.read_csv(\"data/describe.csv\"))\n",
    "\n",
    "plt.bar(df[\"project\"], df[\"mean-code|design-debt\"], label=\"code|design-debt\")\n",
    "plt.bar(df[\"project\"], df[\"mean-requirement-debt\"], label=\"requirement-debt\")\n",
    "plt.bar(df[\"project\"], df[\"mean-test-debt\"], label=\"test-debt\", color=\"green\")\n",
    "plt.bar(df[\"project\"], df[\"mean-documentation-debt\"], label=\"documentation-debt\", color=\"red\")\n",
    "plt.xlabel(\"Project\")\n",
    "plt.ylabel(\"Mean SATD\")\n",
    "plt.legend()\n",
    "\n",
    "plt.show()"
   ],
   "metadata": {
    "collapsed": false
   },
   "id": "d8359da12a189e6f",
   "execution_count": null
  },
  {
   "cell_type": "code",
   "outputs": [],
   "source": [
    "plt.xlabel(\"Project\")\n",
    "plt.ylabel(\"Mean SATD\")\n",
    "plt.bar(df[\"project\"], df[\"mean-test-debt\"], label=\"test-debt\", color=\"green\")\n",
    "plt.bar(df[\"project\"], df[\"mean-documentation-debt\"], label=\"documentation-debt\", color=\"red\")\n",
    "plt.legend()\n",
    "\n",
    "plt.show()"
   ],
   "metadata": {
    "collapsed": false
   },
   "id": "3881a5a1d7ae8b3f",
   "execution_count": null
  },
  {
   "cell_type": "code",
   "outputs": [],
   "source": [
    "\"\"\"\n",
    "Number of releases\n",
    "\"\"\"\n",
    "\n",
    "def plot_releases(name: str, df: DataFrame):\n",
    "    df = df.sort_values(by=[\"timestamp\"], ascending=True)\n",
    "    df[\"count\"] = 1\n",
    "    plt.plot(df[\"timestamp\"], df[\"count\"].cumsum(), label=name.split(\"-\")[0])\n",
    "\n",
    "\n",
    "df = pd.read_csv(\"data/releases.csv\")\n",
    "df[\"timestamp\"] = pd.to_datetime(df[\"timestamp\"], unit=\"s\")\n",
    "projects = sorted(df[\"project\"].unique())\n",
    "\n",
    "for project in projects:\n",
    "    plot_releases(project, df[df[\"project\"] == project])\n",
    "\n",
    "plt.legend()\n",
    "plt.ylabel(\"Number of Releases\")\n",
    "plt.show()\n",
    "\n"
   ],
   "metadata": {
    "collapsed": false
   },
   "id": "a2c8357ef36dc31c",
   "execution_count": null
  },
  {
   "cell_type": "code",
   "outputs": [],
   "source": [
    "\"\"\"\n",
    "Number of commits\n",
    "\"\"\"\n",
    "\n",
    "def plot_commits(name: str, df: DataFrame):\n",
    "    df = df.sort_values(by=[\"timestamp\"], ascending=True)\n",
    "    df[\"count\"] = 1\n",
    "    plt.plot(df[\"timestamp\"], df[\"count\"].cumsum(), label=name.split(\"-\")[0])\n",
    "\n",
    "\n",
    "df = pd.read_csv(\"data/commits.csv\")\n",
    "df[\"timestamp\"] = pd.to_datetime(df[\"timestamp\"], unit=\"s\")\n",
    "projects = sorted(df[\"project\"].unique())\n",
    "\n",
    "for project in projects:\n",
    "    plot_releases(project, df[df[\"project\"] == project])\n",
    "\n",
    "plt.legend()\n",
    "plt.ylabel(\"Number of Commits\")\n",
    "plt.show()"
   ],
   "metadata": {
    "collapsed": false
   },
   "id": "7a1fb739f04393b2",
   "execution_count": null
  }
 ],
 "metadata": {
  "kernelspec": {
   "display_name": "Python 3",
   "language": "python",
   "name": "python3"
  },
  "language_info": {
   "codemirror_mode": {
    "name": "ipython",
    "version": 2
   },
   "file_extension": ".py",
   "mimetype": "text/x-python",
   "name": "python",
   "nbconvert_exporter": "python",
   "pygments_lexer": "ipython2",
   "version": "2.7.6"
  }
 },
 "nbformat": 4,
 "nbformat_minor": 5
}
