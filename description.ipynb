{
 "cells": [
  {
   "cell_type": "code",
   "execution_count": null,
   "id": "initial_id",
   "metadata": {
    "collapsed": true
   },
   "outputs": [],
   "source": [
    "\n",
    "import matplotlib.pyplot as plt\n",
    "\n",
    "import pandas as pd"
   ]
  },
  {
   "cell_type": "code",
   "outputs": [],
   "source": [
    "df = pd.read_csv(\"data/master-dataset.csv\")\n",
    "\n",
    "for project in df[\"project\"].unique():\n",
    "    project_df = df[df[\"project\"] == project]\n",
    "    \n",
    "    plt.bar(project, project_df[\"code|design-debt\"].sum(), color=\"C0\")\n",
    "    plt.bar(project, project_df[\"requirement-debt\"].sum(), color=\"C1\")\n",
    "    plt.bar(project, project_df[\"test-debt\"].sum(), color=\"C2\")\n",
    "    plt.bar(project, project_df[\"documentation-debt\"].sum(), color=\"C3\")\n",
    "    \n",
    "    print(\" & \".join(str(x) for x in [\n",
    "        project, \n",
    "        project_df[\"code|design-debt\"].sum(), \n",
    "        project_df[\"requirement-debt\"].sum(), \n",
    "        project_df[\"test-debt\"].sum(), \n",
    "        project_df[\"documentation-debt\"].sum()\n",
    "    ]))\n",
    "    \n",
    "plt.title(\"number of SATDs by type and project\")\n",
    "plt.legend([\"code|design-debt\", \"requirement-debt\", \"test-debt\", \"documentation-debt\"])\n",
    "plt.xlabel(\"projects\")\n",
    "plt.ylabel(\"number of satds\")\n",
    "plt.savefig(\"plots/summary-satds.png\")\n",
    "plt.show()"
   ],
   "metadata": {
    "collapsed": false
   },
   "id": "ed3b5feee9542403",
   "execution_count": null
  }
 ],
 "metadata": {
  "kernelspec": {
   "display_name": "Python 3",
   "language": "python",
   "name": "python3"
  },
  "language_info": {
   "codemirror_mode": {
    "name": "ipython",
    "version": 2
   },
   "file_extension": ".py",
   "mimetype": "text/x-python",
   "name": "python",
   "nbconvert_exporter": "python",
   "pygments_lexer": "ipython2",
   "version": "2.7.6"
  }
 },
 "nbformat": 4,
 "nbformat_minor": 5
}
