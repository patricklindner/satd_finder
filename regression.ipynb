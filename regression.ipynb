{
 "cells": [
  {
   "cell_type": "code",
   "execution_count": null,
   "id": "initial_id",
   "metadata": {
    "collapsed": true
   },
   "outputs": [],
   "source": [
    "\"\"\"\n",
    "import libs and create statistics dataset and helper methods\n",
    "\"\"\"\n",
    "\n",
    "import pandas as pd\n",
    "from matplotlib import pyplot as plt\n",
    "from pandas import DataFrame\n",
    "from scipy import stats\n",
    "from scipy.stats._stats_py import SignificanceResult\n",
    "from sklearn.linear_model import LinearRegression\n",
    "from sklearn.metrics import mean_squared_error\n",
    "from sklearn.preprocessing import PolynomialFeatures\n",
    "\n",
    "statistics = DataFrame(\n",
    "    columns=[\"project\", \"kendal_v\", \"kendal_p\", \"spearman_v\", \"spearman_p\", \"y_column\", \"x_column\"]\n",
    ")\n",
    "\n",
    "\n",
    "def add_statistics_row(project, kendal_v, kendal_p, spearman_v, spearman_p, y_column, x_column):\n",
    "    global statistics\n",
    "\n",
    "    row = DataFrame({\n",
    "        \"project\": [project],\n",
    "        \"kendal_v\": [kendal_v],\n",
    "        \"kendal_p\": [kendal_p],\n",
    "        \"spearman_p\": [spearman_p],\n",
    "        \"spearman_v\": [spearman_v],\n",
    "        \"y_column\": [y_column],\n",
    "        \"x_column\": [x_column]\n",
    "    })\n",
    "    statistics = pd.concat([statistics, row], ignore_index=True)\n",
    "\n",
    "\n",
    "def load_masterdata():\n",
    "    \"\"\"\n",
    "    loads the master dataset and converts the timestamp into a pandas interpretable datetime\n",
    "    :return: the dataframe, a list of all projects from the dataframe\n",
    "    \"\"\"\n",
    "\n",
    "    df = pd.read_csv(\"data/master-dataset.csv\")\n",
    "    df[\"total_cumsum\"] = df[\"total\"].cumsum()\n",
    "    df[\"timestamp\"] = pd.to_datetime(df[\"timestamp\"])\n",
    "    return df, sorted(df[\"project\"].unique())\n",
    "\n",
    "\n",
    "def regression_and_stats(df: DataFrame, project: str, y_axis_label: str, plot_path: str, x_column_name: str,\n",
    "                         y_column_names: list[str], show_legend=False):\n",
    "    project_df = df[df[\"project\"] == project]\n",
    "\n",
    "    plt.xlabel(\"number of satds in code\")\n",
    "    plt.ylabel(y_axis_label)\n",
    "    plt.title(project)\n",
    "\n",
    "    for y_column_name in y_column_names:\n",
    "        kendal: SignificanceResult = stats.kendalltau(project_df[y_column_name], project_df[x_column_name])\n",
    "        spearman: SignificanceResult = stats.spearmanr(project_df[y_column_name], project_df[x_column_name])\n",
    "        add_statistics_row(project, *kendal, *spearman, y_column_name, x_column_name)\n",
    "\n",
    "        poly = PolynomialFeatures(degree=3)\n",
    "        x_poly = poly.fit_transform(project_df[y_column_name].sort_values().to_numpy().reshape(-1, 1))\n",
    "        y = project_df[x_column_name].to_numpy().reshape(-1, 1)\n",
    "        model = LinearRegression()\n",
    "        model.fit(x_poly, y)\n",
    "        predicted = model.predict(x_poly)\n",
    "        print(\"MSE\", mean_squared_error(y, predicted))\n",
    "\n",
    "        plt.scatter(project_df[y_column_name], project_df[x_column_name], s=3, label=y_column_name)\n",
    "        plt.plot(project_df[y_column_name].sort_values(), predicted, color=\"red\")\n",
    "\n",
    "    if show_legend:\n",
    "        plt.legend()\n",
    "    plt.savefig(f\"{plot_path}/{project}.png\")\n",
    "    plt.show()\n",
    "\n",
    "\n"
   ]
  },
  {
   "cell_type": "markdown",
   "source": [
    "# RQ1"
   ],
   "metadata": {
    "collapsed": false
   },
   "id": "973bb7f81392042a"
  },
  {
   "cell_type": "code",
   "outputs": [],
   "source": [
    "\"\"\"\n",
    "dependence on commit frequency\n",
    "\"\"\"\n",
    "\n",
    "df, projects = load_masterdata()\n",
    "\n",
    "for project in projects:\n",
    "    regression_and_stats(df=df,\n",
    "                         project=project,\n",
    "                         y_axis_label=\"number of commits per 2 weeks\",\n",
    "                         plot_path=\"plots/rq1/commit_frequency\",\n",
    "                         x_column_name=\"commits_per_14days\",\n",
    "                         y_column_names=[\"total_cumsum\"])\n",
    "statistics"
   ],
   "metadata": {
    "collapsed": false
   },
   "id": "f3cb87cf638553c0",
   "execution_count": null
  },
  {
   "cell_type": "code",
   "outputs": [],
   "source": [
    "\"\"\"\n",
    "dependence on release speed\n",
    "\"\"\"\n",
    "\n",
    "df, projects = load_masterdata()\n",
    "df.dropna(inplace=True)\n",
    "\n",
    "for project in projects:\n",
    "    regression_and_stats(df=df,\n",
    "                         project=project,\n",
    "                         y_axis_label=\"number of releases per 60 days\",\n",
    "                         plot_path=\"plots/rq1/release_frequency\",\n",
    "                         x_column_name=\"releases_per_60days\",\n",
    "                         y_column_names=[\"total_cumsum\"])\n",
    "statistics"
   ],
   "metadata": {
    "collapsed": false
   },
   "id": "81a941004266d743",
   "execution_count": null
  },
  {
   "cell_type": "code",
   "outputs": [],
   "source": [
    "\"\"\"\n",
    "dependence on exact number of open pull requests\n",
    "\"\"\"\n",
    "\n",
    "df, projects = load_masterdata()\n",
    "df.dropna(inplace=True)\n",
    "\n",
    "for project in projects:\n",
    "    regression_and_stats(df=df,\n",
    "                         project=project,\n",
    "                         y_axis_label=\"number of open pull requests\",\n",
    "                         plot_path=\"plots/rq1/prs\",\n",
    "                         x_column_name=\"open_prs_exact\",\n",
    "                         y_column_names=[\"total_cumsum\"])\n",
    "statistics\n"
   ],
   "metadata": {
    "collapsed": false
   },
   "id": "db8e131a29f0a119",
   "execution_count": null
  },
  {
   "cell_type": "code",
   "outputs": [],
   "source": [
    "# \"\"\"\n",
    "# dependence on number of opened pull requests in a kernel of 7 days\n",
    "# \"\"\"\n",
    "# \n",
    "# df, projects = load_masterdata()\n",
    "# df = df.dropna()\n",
    "# \n",
    "# for project in projects:\n",
    "#     regression_and_stats(df, project, \"open_prs_per7\", \"opened pull requests in a kernel of 7 days\", \"plots/prs-per7\")\n"
   ],
   "metadata": {
    "collapsed": false
   },
   "id": "d462cbf960a33cdd",
   "execution_count": null
  },
  {
   "cell_type": "markdown",
   "source": [
    "# RQ2"
   ],
   "metadata": {
    "collapsed": false
   },
   "id": "ad8635f6e98bf542"
  },
  {
   "cell_type": "code",
   "outputs": [],
   "source": [
    "\"\"\"\n",
    "prepare masterdataset for rq2\n",
    "\"\"\"\n",
    "\n",
    "df, projects = load_masterdata()\n",
    "\n",
    "df[\"code|design-debt\"] = df[\"code|design-debt\"].cumsum()\n",
    "df[\"documentation-debt\"] = df[\"documentation-debt\"].cumsum()\n",
    "df[\"test-debt\"] = df[\"test-debt\"].cumsum()\n",
    "df[\"requirement-debt\"] = df[\"requirement-debt\"].cumsum()\n",
    "\n",
    "df.dropna(inplace=True)"
   ],
   "metadata": {
    "collapsed": false
   },
   "id": "45b43308c4169d99",
   "execution_count": null
  },
  {
   "cell_type": "code",
   "outputs": [],
   "source": [
    "\"\"\"\n",
    "dependence of exact number of open pull requests on every type of satd\n",
    "\"\"\"\n",
    "\n",
    "for project in projects:\n",
    "    regression_and_stats(df=df,\n",
    "                         project=project,\n",
    "                         y_axis_label=\"number of open pull requests\",\n",
    "                         plot_path=\"plots/rq2/prs\",\n",
    "                         x_column_name=\"open_prs_exact\",\n",
    "                         y_column_names=[\"code|design-debt\", \"test-debt\", \"requirement-debt\", \"documentation-debt\"])\n",
    "statistics"
   ],
   "metadata": {
    "collapsed": false
   },
   "id": "2fda034d5fab9d84",
   "execution_count": null
  },
  {
   "cell_type": "code",
   "outputs": [],
   "source": [
    "\"\"\"\n",
    "dependence of commit frequency on every type of satd\n",
    "\"\"\"\n",
    "\n",
    "for project in projects:\n",
    "    regression_and_stats(df=df,\n",
    "                         project=project,\n",
    "                         y_axis_label=\"number of commits per 14 days\",\n",
    "                         plot_path=\"plots/rq2/commit_frequency\",\n",
    "                         x_column_name=\"commits_per_14days\",\n",
    "                         y_column_names=[\"code|design-debt\", \"test-debt\", \"requirement-debt\", \"documentation-debt\"])\n",
    "statistics"
   ],
   "metadata": {
    "collapsed": false
   },
   "id": "dfa38eb09ad8dd7a",
   "execution_count": null
  },
  {
   "cell_type": "code",
   "outputs": [],
   "source": [
    "\"\"\"\n",
    "dependence of release frequency on every type of satd\n",
    "\"\"\"\n",
    "\n",
    "for project in projects:\n",
    "    regression_and_stats(df=df,\n",
    "                         project=project,\n",
    "                         y_axis_label=\"number of releases per 60 days\",\n",
    "                         plot_path=\"plots/rq2/release_frequency\",\n",
    "                         x_column_name=\"releases_per_60days\",\n",
    "                         y_column_names=[\"code|design-debt\", \"test-debt\", \"requirement-debt\", \"documentation-debt\"])\n",
    "statistics"
   ],
   "metadata": {
    "collapsed": false
   },
   "id": "3e89164c8e9cebfd",
   "execution_count": null
  },
  {
   "cell_type": "code",
   "outputs": [],
   "source": [
    "\"\"\"\n",
    "Execute all cells sequentially before running this cell\n",
    "It stores the kendal and spearman values all together in a statistics.csv file\n",
    "\"\"\"\n",
    "\n",
    "statistics.to_csv(\"data/statistics.csv\")"
   ],
   "metadata": {
    "collapsed": false
   },
   "id": "8b533095b3561036",
   "execution_count": null
  }
 ],
 "metadata": {
  "kernelspec": {
   "display_name": "Python 3",
   "language": "python",
   "name": "python3"
  },
  "language_info": {
   "codemirror_mode": {
    "name": "ipython",
    "version": 2
   },
   "file_extension": ".py",
   "mimetype": "text/x-python",
   "name": "python",
   "nbconvert_exporter": "python",
   "pygments_lexer": "ipython2",
   "version": "2.7.6"
  }
 },
 "nbformat": 4,
 "nbformat_minor": 5
}
