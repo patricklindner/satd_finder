{
 "cells": [
  {
   "cell_type": "code",
   "execution_count": null,
   "id": "initial_id",
   "metadata": {
    "collapsed": true
   },
   "outputs": [],
   "source": [
    "import numpy as np\n",
    "import pandas as pd\n",
    "from matplotlib import pyplot as plt\n",
    "from pandas import DataFrame\n",
    "from scipy import stats\n",
    "from sklearn.linear_model import LinearRegression\n",
    "from sklearn.metrics import mean_squared_error\n",
    "from sklearn.preprocessing import PolynomialFeatures\n",
    "\n",
    "\n",
    "def load_masterdata():\n",
    "    \"\"\"\n",
    "    loads the master dataset and converts the timestamp into a pandas interpretable datetime\n",
    "    :return: the dataframe, a list of all projects from the dataframe\n",
    "    \"\"\"\n",
    "    df = pd.read_csv(\"data/master-dataset.csv\")\n",
    "    df[\"total_cumsum\"] = df[\"total\"].cumsum()\n",
    "    df[\"timestamp\"] = pd.to_datetime(df[\"timestamp\"])\n",
    "    return df, sorted(df[\"project\"].unique())\n",
    "\n",
    "\n",
    "def regression_and_stats(df: DataFrame, project: str, column_name: str, y_axis_label: str, plot_path: str):\n",
    "    project_df = df[df[\"project\"] == project]\n",
    "\n",
    "    print(\"Kendal\", stats.kendalltau(project_df[\"total_cumsum\"], project_df[column_name]))\n",
    "    print(\"Spearman\", stats.spearmanr(project_df[\"total_cumsum\"], project_df[column_name]))\n",
    "\n",
    "    poly = PolynomialFeatures(degree=3)\n",
    "    x_poly = poly.fit_transform(project_df[\"total_cumsum\"].sort_values().to_numpy().reshape(-1, 1))\n",
    "    y = project_df[column_name].to_numpy().reshape(-1, 1)\n",
    "    model = LinearRegression()\n",
    "    model.fit(x_poly, y)\n",
    "    predicted = model.predict(x_poly)\n",
    "    print(\"MSE\", mean_squared_error(y, predicted))\n",
    "\n",
    "    plt.xlabel(\"total number of satds in code\")\n",
    "    plt.ylabel(y_axis_label)\n",
    "    plt.title(project)\n",
    "    plt.scatter(project_df[\"total_cumsum\"], project_df[column_name], s=3)\n",
    "    plt.plot(project_df[\"total_cumsum\"].sort_values(), predicted, color=\"red\")\n",
    "    plt.savefig(f\"{plot_path}/{project}.png\")\n",
    "    plt.show()"
   ]
  },
  {
   "cell_type": "code",
   "outputs": [],
   "source": [
    "df, projects = load_masterdata()\n",
    "\n",
    "range(df[\"total_cumsum\"].min(), df[\"total_cumsum\"].max())"
   ],
   "metadata": {
    "collapsed": false
   },
   "id": "c6ea68e0ee9b009e",
   "execution_count": null
  },
  {
   "cell_type": "code",
   "outputs": [],
   "source": [
    "df, projects = load_masterdata()\n",
    "\n",
    "for project in projects:\n",
    "    regression_and_stats(df, project, \"commits_per_14days\", \"number of commits per 2 weeks\", \"plots/commit_frequency\")"
   ],
   "metadata": {
    "collapsed": false
   },
   "id": "f3cb87cf638553c0",
   "execution_count": null
  },
  {
   "cell_type": "code",
   "outputs": [],
   "source": [
    "\"\"\"\n",
    "dependence on release speed\n",
    "\"\"\"\n",
    "\n",
    "df = pd.read_csv(\"data/master-dataset.csv\")\n",
    "df.dropna(inplace=True)\n",
    "df[\"total_cumsum\"] = df[\"total\"].cumsum()\n",
    "\n",
    "for project in sorted(df[\"project\"].unique()):\n",
    "    project_df = df[df[\"project\"] == project]\n",
    "    poly = PolynomialFeatures(degree=3)\n",
    "    x_poly = poly.fit_transform(project_df[\"total_cumsum\"].to_numpy().reshape(-1, 1))\n",
    "    y = project_df[\"releases_per_60days\"].to_numpy().reshape(-1, 1)\n",
    "\n",
    "    model = LinearRegression()\n",
    "    model.fit(x_poly, y)\n",
    "    predicted = model.predict(x_poly)\n",
    "    print(\"MSE\", mean_squared_error(y, predicted))\n",
    "\n",
    "    plt.xlabel(\"total number of satds in code\")\n",
    "    plt.ylabel(\"number of releases per 60 days\")\n",
    "    plt.title(project)\n",
    "    plt.scatter(project_df[\"total_cumsum\"], project_df[\"releases_per_60days\"], s=3)\n",
    "    plt.plot(project_df[\"total_cumsum\"], predicted, color=\"red\")\n",
    "    plt.savefig(f\"plots/commit_frequency/{project}.png\")\n",
    "    plt.show()"
   ],
   "metadata": {
    "collapsed": false
   },
   "id": "81a941004266d743",
   "execution_count": null
  },
  {
   "cell_type": "code",
   "outputs": [],
   "source": [
    "\"\"\"\n",
    "dependence on exact number of open pull requests\n",
    "\"\"\"\n",
    "\n",
    "df, projects = load_masterdata()\n",
    "df = df.dropna()\n",
    "\n",
    "for project in projects:\n",
    "    regression_and_stats(df, project, \"open_prs_exact\", \"exact number of open pull requests\", \"plots/prs-exact\")\n"
   ],
   "metadata": {
    "collapsed": false
   },
   "id": "db8e131a29f0a119",
   "execution_count": null
  },
  {
   "cell_type": "code",
   "outputs": [],
   "source": [
    "\"\"\"\n",
    "dependence on number of opened pull requests in a kernel of 7 days\n",
    "\"\"\"\n",
    "\n",
    "df, projects = load_masterdata()\n",
    "df = df.dropna()\n",
    "\n",
    "for project in projects:\n",
    "    regression_and_stats(df, project, \"open_prs_per7\", \"opened pull requests in a kernel of 7 days\", \"plots/prs-per7\")\n"
   ],
   "metadata": {
    "collapsed": false
   },
   "id": "d462cbf960a33cdd",
   "execution_count": null
  }
 ],
 "metadata": {
  "kernelspec": {
   "display_name": "Python 3",
   "language": "python",
   "name": "python3"
  },
  "language_info": {
   "codemirror_mode": {
    "name": "ipython",
    "version": 2
   },
   "file_extension": ".py",
   "mimetype": "text/x-python",
   "name": "python",
   "nbconvert_exporter": "python",
   "pygments_lexer": "ipython2",
   "version": "2.7.6"
  }
 },
 "nbformat": 4,
 "nbformat_minor": 5
}
