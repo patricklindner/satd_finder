{
 "cells": [
  {
   "cell_type": "code",
   "execution_count": null,
   "id": "initial_id",
   "metadata": {
    "collapsed": true
   },
   "outputs": [],
   "source": [
    "import csv\n",
    "\n",
    "import numpy as np\n",
    "import pandas as pd\n",
    "from matplotlib import pyplot as plt\n",
    "from pandas import DataFrame\n",
    "from scipy import stats\n",
    "from scipy.stats._stats_py import SignificanceResult\n",
    "from sklearn.linear_model import LinearRegression\n",
    "from sklearn.metrics import mean_squared_error\n",
    "from sklearn.preprocessing import PolynomialFeatures\n",
    "\n",
    "\n",
    "def load_masterdata():\n",
    "    \"\"\"\n",
    "    loads the master dataset and converts the timestamp into a pandas interpretable datetime\n",
    "    :return: the dataframe, a list of all projects from the dataframe\n",
    "    \"\"\"\n",
    "    df = pd.read_csv(\"data/master-dataset.csv\")\n",
    "    df[\"total_cumsum\"] = df[\"total\"].cumsum()\n",
    "    df[\"timestamp\"] = pd.to_datetime(df[\"timestamp\"])\n",
    "    return df, sorted(df[\"project\"].unique())\n",
    "\n",
    "\n",
    "def regression_and_stats(df: DataFrame, project: str, y_axis_label: str, plot_path: str, x_column_name: str, y_column_names: list[str]):\n",
    "    project_df = df[df[\"project\"] == project]\n",
    "\n",
    "    plt.xlabel(\"number of satds in code\")\n",
    "    plt.ylabel(y_axis_label)\n",
    "    plt.title(project)\n",
    "    \n",
    "    result = {}\n",
    "    \n",
    "    for y_column_name in y_column_names:\n",
    "        print(y_column_name)\n",
    "        kendal: SignificanceResult = stats.kendalltau(project_df[y_column_name], project_df[x_column_name])\n",
    "        spearman: SignificanceResult = stats.spearmanr(project_df[y_column_name], project_df[x_column_name])\n",
    "        result[y_column_name] = [kendal, spearman]\n",
    "        print(\"Kendal\",  kendal)\n",
    "        print(\"Spearman\", spearman)\n",
    "    \n",
    "        poly = PolynomialFeatures(degree=3)\n",
    "        x_poly = poly.fit_transform(project_df[y_column_name].sort_values().to_numpy().reshape(-1, 1))\n",
    "        y = project_df[x_column_name].to_numpy().reshape(-1, 1)\n",
    "        model = LinearRegression()\n",
    "        model.fit(x_poly, y)\n",
    "        predicted = model.predict(x_poly)\n",
    "        print(\"MSE\", mean_squared_error(y, predicted))\n",
    "    \n",
    "        plt.scatter(project_df[y_column_name], project_df[x_column_name], s=3, label=y_column_name)\n",
    "        plt.plot(project_df[y_column_name].sort_values(), predicted)\n",
    "        \n",
    "    plt.legend()\n",
    "    plt.savefig(f\"{plot_path}/{project}.png\")\n",
    "    plt.show()\n",
    "    return result"
   ]
  },
  {
   "cell_type": "markdown",
   "source": [
    "# RQ1"
   ],
   "metadata": {
    "collapsed": false
   },
   "id": "973bb7f81392042a"
  },
  {
   "cell_type": "code",
   "outputs": [],
   "source": [
    "df, projects = load_masterdata()\n",
    "\n",
    "for project in projects:\n",
    "    regression_and_stats(df, project, y_axis_label=\"number of commits per 2 weeks\", plot_path=\"plots/commit_frequency\", x_column_name=\"commits_per_14days\", y_column_names=[\"total_cumsum\"])"
   ],
   "metadata": {
    "collapsed": false
   },
   "id": "f3cb87cf638553c0",
   "execution_count": null
  },
  {
   "cell_type": "code",
   "outputs": [],
   "source": [
    "\"\"\"\n",
    "dependence on release speed\n",
    "\"\"\"\n",
    "\n",
    "df = pd.read_csv(\"data/master-dataset.csv\")\n",
    "df.dropna(inplace=True)\n",
    "df[\"total_cumsum\"] = df[\"total\"].cumsum()\n",
    "\n",
    "for project in sorted(df[\"project\"].unique()):\n",
    "    project_df = df[df[\"project\"] == project]\n",
    "    poly = PolynomialFeatures(degree=3)\n",
    "    x_poly = poly.fit_transform(project_df[\"total_cumsum\"].to_numpy().reshape(-1, 1))\n",
    "    y = project_df[\"releases_per_60days\"].to_numpy().reshape(-1, 1)\n",
    "\n",
    "    model = LinearRegression()\n",
    "    model.fit(x_poly, y)\n",
    "    predicted = model.predict(x_poly)\n",
    "    print(\"MSE\", mean_squared_error(y, predicted))\n",
    "\n",
    "    plt.xlabel(\"total number of satds in code\")\n",
    "    plt.ylabel(\"number of releases per 60 days\")\n",
    "    plt.title(project)\n",
    "    plt.scatter(project_df[\"total_cumsum\"], project_df[\"releases_per_60days\"], s=3)\n",
    "    plt.plot(project_df[\"total_cumsum\"], predicted, color=\"red\")\n",
    "    plt.savefig(f\"plots/commit_frequency/{project}.png\")\n",
    "    plt.show()"
   ],
   "metadata": {
    "collapsed": false
   },
   "id": "81a941004266d743",
   "execution_count": null
  },
  {
   "cell_type": "code",
   "outputs": [],
   "source": [
    "\"\"\"\n",
    "dependence on exact number of open pull requests\n",
    "\"\"\"\n",
    "\n",
    "df, projects = load_masterdata()\n",
    "df = df.dropna()\n",
    "\n",
    "for project in projects:\n",
    "    regression_and_stats(df, project, \"open_prs_exact\", \"exact number of open pull requests\", \"plots/prs-exact\")\n"
   ],
   "metadata": {
    "collapsed": false
   },
   "id": "db8e131a29f0a119",
   "execution_count": null
  },
  {
   "cell_type": "code",
   "outputs": [],
   "source": [
    "\"\"\"\n",
    "dependence on number of opened pull requests in a kernel of 7 days\n",
    "\"\"\"\n",
    "\n",
    "df, projects = load_masterdata()\n",
    "df = df.dropna()\n",
    "\n",
    "for project in projects:\n",
    "    regression_and_stats(df, project, \"open_prs_per7\", \"opened pull requests in a kernel of 7 days\", \"plots/prs-per7\")\n"
   ],
   "metadata": {
    "collapsed": false
   },
   "id": "d462cbf960a33cdd",
   "execution_count": null
  },
  {
   "cell_type": "markdown",
   "source": [
    "# RQ2"
   ],
   "metadata": {
    "collapsed": false
   },
   "id": "ad8635f6e98bf542"
  },
  {
   "cell_type": "code",
   "outputs": [],
   "source": [
    "\"\"\"\n",
    "dependency on number of commit frequency on all four types of SATD\n",
    "\"\"\"\n",
    "df, projects = load_masterdata()\n",
    "\n",
    "df[\"code|design-debt\"] = df[\"code|design-debt\"].cumsum()\n",
    "df[\"documentation-debt\"] = df[\"documentation-debt\"].cumsum()\n",
    "df[\"test-debt\"] = df[\"test-debt\"].cumsum()\n",
    "df[\"requirement-debt\"] = df[\"requirement-debt\"].cumsum()\n",
    "\n",
    "with open(\"data/stats-commits.csv\", mode=\"w\") as file:\n",
    "    writer = csv.writer(file)\n",
    "    writer.writerow([\"project\", \"kendal_v\", \"kendal_p\", \"spearman_v\", \"spearman_p\", \"y_column\", \"x_column\"])\n",
    "    x_column = \"commits_per_14days\"\n",
    "    for project in projects:\n",
    "        plt.xscale(\"log\")\n",
    "        statistic = regression_and_stats(df, project, y_axis_label=\"number of commits per 2 weeks\", plot_path=\"plots/commit_frequency\", x_column_name=x_column, y_column_names=[\"test-debt\", \"requirement-debt\", \"documentation-debt\", \"code|design-debt\"])\n",
    "        print(statistic)\n",
    "        for y_column in statistic:\n",
    "            writer.writerow([project, *statistic[y_column][0], *statistic[y_column][1], y_column, x_column])\n",
    "    \n",
    "    "
   ],
   "metadata": {
    "collapsed": false
   },
   "id": "3643b17629b96e0a",
   "execution_count": null
  },
  {
   "cell_type": "code",
   "outputs": [],
   "source": [
    "\"\"\"\n",
    "dependency of release frequency on all four types of SATD\n",
    "\"\"\"\n",
    "df, projects = load_masterdata()\n",
    "\n",
    "df[\"code|design-debt\"] = df[\"code|design-debt\"].cumsum()\n",
    "df[\"documentation-debt\"] = df[\"documentation-debt\"].cumsum()\n",
    "df[\"test-debt\"] = df[\"test-debt\"].cumsum()\n",
    "df[\"requirement-debt\"] = df[\"requirement-debt\"].cumsum()\n",
    "\n",
    "df.dropna(inplace=True)\n",
    "\n",
    "with open(\"data/stats-releases.csv\", mode=\"w\") as file:\n",
    "    writer = csv.writer(file)\n",
    "    writer.writerow([\"project\", \"kendal_v\", \"kendal_p\", \"spearman_v\", \"spearman_p\", \"y_column\", \"x_column\"])\n",
    "    x_column = \"releases_per_60days\"\n",
    "    for project in projects:\n",
    "        plt.xscale(\"log\")\n",
    "        statistic = regression_and_stats(df, project, y_axis_label=\"releases of commits per 60 days\", plot_path=\"plots/release_frequency\", x_column_name=x_column, y_column_names=[\"test-debt\", \"requirement-debt\", \"documentation-debt\", \"code|design-debt\"])\n",
    "        print(statistic)\n",
    "        for y_column in statistic:\n",
    "            writer.writerow([project, *statistic[y_column][0], *statistic[y_column][1], y_column, x_column])"
   ],
   "metadata": {
    "collapsed": false
   },
   "id": "e851fd30389ce4d7",
   "execution_count": null
  },
  {
   "cell_type": "code",
   "outputs": [],
   "source": [
    "\"\"\"\n",
    "dependency of open pull requests on all four types of SATD\n",
    "\"\"\"\n",
    "df, projects = load_masterdata()\n",
    "\n",
    "df[\"code|design-debt\"] = df[\"code|design-debt\"].cumsum()\n",
    "df[\"documentation-debt\"] = df[\"documentation-debt\"].cumsum()\n",
    "df[\"test-debt\"] = df[\"test-debt\"].cumsum()\n",
    "df[\"requirement-debt\"] = df[\"requirement-debt\"].cumsum()\n",
    "\n",
    "df.dropna(inplace=True)\n",
    "\n",
    "with open(\"data/stats-prs.csv\", mode=\"w\") as file:\n",
    "    writer = csv.writer(file)\n",
    "    writer.writerow([\"project\", \"kendal_v\", \"kendal_p\", \"spearman_v\", \"spearman_p\", \"y_column\", \"x_column\"])\n",
    "    x_column = \"open_prs_exact\"\n",
    "    for project in projects:\n",
    "        # plt.xscale(\"log\")\n",
    "        statistic = regression_and_stats(df, project, y_axis_label=\"releases of commits per 60 days\", plot_path=\"plots/rq2/prs\", x_column_name=x_column, y_column_names=[\"test-debt\", \"requirement-debt\", \"documentation-debt\", \"code|design-debt\"])\n",
    "        print(statistic)\n",
    "        for y_column in statistic:\n",
    "            writer.writerow([project, *statistic[y_column][0], *statistic[y_column][1], y_column, x_column])"
   ],
   "metadata": {
    "collapsed": false
   },
   "id": "8e5d2a5d775f04a3",
   "execution_count": null
  }
 ],
 "metadata": {
  "kernelspec": {
   "display_name": "Python 3",
   "language": "python",
   "name": "python3"
  },
  "language_info": {
   "codemirror_mode": {
    "name": "ipython",
    "version": 2
   },
   "file_extension": ".py",
   "mimetype": "text/x-python",
   "name": "python",
   "nbconvert_exporter": "python",
   "pygments_lexer": "ipython2",
   "version": "2.7.6"
  }
 },
 "nbformat": 4,
 "nbformat_minor": 5
}
