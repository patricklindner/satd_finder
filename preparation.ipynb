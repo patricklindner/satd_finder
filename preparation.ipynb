{
 "cells": [
  {
   "cell_type": "code",
   "execution_count": null,
   "id": "initial_id",
   "metadata": {
    "collapsed": true
   },
   "outputs": [],
   "source": [
    "import pandas as pd\n",
    "from pandas import DataFrame\n",
    "from matplotlib import pyplot as plt\n",
    "import csv"
   ]
  },
  {
   "cell_type": "code",
   "outputs": [],
   "source": [
    "\"\"\"\n",
    "create commit frequency dataset\n",
    "\"\"\"\n",
    "\n",
    "commits = pd.read_csv(\"data/commits.csv\")\n",
    "commits[\"timestamp\"] = pd.to_datetime(commits[\"timestamp\"], unit=\"s\")\n",
    "commits_grouped = commits.groupby([\"project\", \"timestamp\"]).count()\n",
    "commits_grouped = commits_grouped.reset_index()\n",
    "commits_grouped = commits_grouped.set_index(\"timestamp\")\n",
    "\n",
    "projects = sorted(commits_grouped[\"project\"].unique())\n",
    "\n",
    "combined = DataFrame()\n",
    "for project in projects:\n",
    "    # set resolution of 2 weeks\n",
    "    frequency = commits_grouped[commits_grouped[\"project\"] == project].resample(\"14d\").sum()\n",
    "    frequency = frequency.rename(columns={\"commit_hash\": \"commits_per_14days\"})\n",
    "    frequency[\"project\"] = project\n",
    "    combined = pd.concat([combined, frequency])\n",
    "\n",
    "combined.to_csv(\"data/commit_frequency_14d.csv\")\n",
    "\n"
   ],
   "metadata": {
    "collapsed": false
   },
   "id": "70cda2e61790adbb",
   "execution_count": null
  },
  {
   "cell_type": "code",
   "outputs": [],
   "source": [
    "from pandas import DataFrame\n",
    "\n",
    "\"\"\"\n",
    "create release frequency dataset\n",
    "\"\"\"\n",
    "\n",
    "commits = pd.read_csv(\"data/releases.csv\")\n",
    "commits[\"timestamp\"] = pd.to_datetime(commits[\"timestamp\"], unit=\"s\")\n",
    "commits_grouped = commits.groupby([\"project\", \"timestamp\"]).count()\n",
    "commits_grouped = commits_grouped.reset_index()\n",
    "commits_grouped = commits_grouped.set_index(\"timestamp\")\n",
    "\n",
    "projects = sorted(commits_grouped[\"project\"].unique())\n",
    "combined = DataFrame()\n",
    "\n",
    "for project in projects:\n",
    "    # set resolution of 2 weeks\n",
    "    frequency = commits_grouped[commits_grouped[\"project\"] == project].resample(\"60d\").sum()\n",
    "    frequency = frequency.rename(columns={\"release_name\": \"releases_per_60days\"})\n",
    "    frequency[\"project\"] = project\n",
    "    combined = pd.concat([combined, frequency])\n",
    "    frequency.reset_index(inplace=True)\n",
    "    plt.plot(frequency[\"timestamp\"], frequency[\"releases_per_60days\"])\n",
    "    plt.title(project)\n",
    "    plt.show()\n",
    "\n",
    "combined.to_csv(\"data/release_frequency_60d.csv\")"
   ],
   "metadata": {
    "collapsed": false
   },
   "id": "57750b8c809fa75c",
   "execution_count": null
  },
  {
   "cell_type": "code",
   "outputs": [],
   "source": [
    "\"\"\"\n",
    "merge pull request data files\n",
    "\"\"\"\n",
    "\n",
    "with open(\"data/prs.csv\", mode=\"w\") as file:\n",
    "    writer = csv.writer(file)\n",
    "    writer.writerow([\"timestamp\", \"project\", \"open_prs\"])\n",
    "\n",
    "    for project in [\"druid\", \"dubbo\", \"flink\", \"hadoop\", \"maven\", \"pulsar\"]:\n",
    "        df = pd.read_csv(f\"data/prs_reduced/{project}.csv\")\n",
    "        df[\"created_at\"] = pd.to_datetime(df[\"created_at\"])\n",
    "        df[\"closed_at\"] = pd.to_datetime(df[\"closed_at\"])\n",
    "\n",
    "        timestamps = sorted(pd.concat([df[\"created_at\"], df[\"closed_at\"]]).dropna().unique())\n",
    "        for timestamp in timestamps:\n",
    "            counter = 0\n",
    "            counter += len(df[df[\"created_at\"] == timestamp])\n",
    "            counter -= len(df[df[\"closed_at\"] == timestamp])\n",
    "            writer.writerow([timestamp, project, counter])\n"
   ],
   "metadata": {
    "collapsed": false
   },
   "id": "164970fdc8d55a2",
   "execution_count": null
  },
  {
   "cell_type": "code",
   "outputs": [],
   "source": [
    "\"\"\"\n",
    "cumsum pull requests per project\n",
    "\"\"\"\n",
    "\n",
    "df = pd.read_csv(\"data/prs.csv\")\n",
    "df[\"timestamp\"] = pd.to_datetime(df[\"timestamp\"])\n",
    "df.set_index(\"timestamp\", inplace=True)\n",
    "\n",
    "combined = DataFrame()\n",
    "frequency = DataFrame()\n",
    "for project in df[\"project\"].unique():\n",
    "    project_df = df[df[\"project\"] == project]\n",
    "    project_df = project_df.sort_values(\"timestamp\")\n",
    "    project_df[\"cumsum\"] = project_df[\"open_prs\"].cumsum()\n",
    "\n",
    "    combined = pd.concat([combined, project_df])\n",
    "    resampled = project_df.resample(\"7d\").sum()\n",
    "    resampled[\"project\"] = project\n",
    "    # resampled.reset_index(inplace=True)\n",
    "    frequency = pd.concat([frequency, resampled])\n",
    "\n",
    "    # plt.title(project)\n",
    "    # plt.plot(resampled[\"timestamp\"], resampled[\"open_issues\"])\n",
    "    # plt.show()\n",
    "\n",
    "combined.to_csv(\"data/prs-aggregated.csv\")\n",
    "frequency.rename(columns={\"open_prs\": \"open_prs_per_7days\"})\n",
    "frequency.to_csv(\"data/prs-per-7days.csv\")\n"
   ],
   "metadata": {
    "collapsed": false
   },
   "id": "20c2473281fd3a70",
   "execution_count": null
  },
  {
   "cell_type": "code",
   "outputs": [],
   "source": [
    "\"\"\"\n",
    "clean pull reuqest data\n",
    "\"\"\"\n",
    "\n",
    "project = \"pulsar\"\n",
    "df = pd.read_csv(f\"data/pull_requests/{project}.csv\",\n",
    "                 names=[\"id\", \"title\", \"body\", \"status\", \"created_at\", \"closed_at\", \"merged_at\"])\n",
    "df = df[[\"id\", \"created_at\", \"closed_at\"]]\n",
    "df.set_index(\"id\").to_csv(f\"data/prs_reduced/{project}.csv\")"
   ],
   "metadata": {
    "collapsed": false
   },
   "id": "1ea983c41d853713",
   "execution_count": null
  },
  {
   "cell_type": "code",
   "outputs": [],
   "source": [
    "\"\"\"\n",
    "merge all to master dataset\n",
    "\"\"\"\n",
    "\n",
    "satds = pd.read_csv(\"data/satds.csv\")\n",
    "\n",
    "satds[\"total\"] = satds[\"code|design-debt\"] + satds[\"test-debt\"] + satds[\"documentation-debt\"] + satds[\n",
    "    \"requirement-debt\"]\n",
    "\n",
    "commit_frequency = pd.read_csv(\"data/commit_frequency_14d.csv\")\n",
    "release_frequency = pd.read_csv(\"data/release_frequency_60d.csv\")\n",
    "prs = pd.read_csv(\"data/prs-aggregated.csv\")\n",
    "prs_per_7 = pd.read_csv(\"data/prs-per-7days.csv\")\n",
    "\n",
    "satds[\"timestamp\"] = pd.to_datetime(satds[\"timestamp\"], unit=\"s\")\n",
    "\n",
    "commit_frequency[\"timestamp\"] = pd.to_datetime(commit_frequency[\"timestamp\"])\n",
    "release_frequency[\"timestamp\"] = pd.to_datetime(release_frequency[\"timestamp\"])\n",
    "prs[\"timestamp\"] = pd.to_datetime(prs[\"timestamp\"]).dt.tz_localize(None)\n",
    "prs_per_7[\"timestamp\"] = pd.to_datetime(prs_per_7[\"timestamp\"]).dt.tz_localize(None)\n",
    "\n",
    "\n",
    "combined = DataFrame()\n",
    "for project in sorted(satds[\"project\"].unique()):\n",
    "    selection_satds = satds[satds[\"project\"] == project].sort_values(\"timestamp\")\n",
    "    selection_commit_frequency = commit_frequency[commit_frequency[\"project\"] == project].sort_values(\"timestamp\")\n",
    "    selection_release_frequency = release_frequency[release_frequency[\"project\"] == project].sort_values(\"timestamp\")\n",
    "    selection_prs = prs[prs[\"project\"] == project].sort_values(\"timestamp\")\n",
    "    selection_prs_per_7 = prs_per_7[prs_per_7[\"project\"] == project].sort_values(\"timestamp\")\n",
    "\n",
    "    merged = pd.merge_asof(selection_satds, selection_commit_frequency[[\"timestamp\", \"commits_per_14days\"]], on=\"timestamp\")\n",
    "    merged = pd.merge_asof(merged, selection_release_frequency[[\"timestamp\", \"releases_per_60days\"]], on=\"timestamp\")\n",
    "    merged = pd.merge_asof(merged, selection_prs[[\"timestamp\", \"cumsum\"]], on=\"timestamp\")\n",
    "    merged.rename(columns={\"cumsum\": \"open_prs_exact\"}, inplace=True)\n",
    "    merged = pd.merge_asof(merged, selection_prs_per_7[[\"timestamp\", \"open_prs\"]], on=\"timestamp\")\n",
    "    merged.rename(columns={\"open_prs\": \"open_prs_per7\"}, inplace=True)\n",
    "    \n",
    "    combined = pd.concat([combined, merged])\n",
    "\n",
    "combined.set_index(\"timestamp\", inplace=True)\n",
    "combined.to_csv(\"data/master-dataset.csv\")\n",
    "combined\n"
   ],
   "metadata": {
    "collapsed": false
   },
   "id": "703bb92b127d3477",
   "execution_count": null
  }
 ],
 "metadata": {
  "kernelspec": {
   "display_name": "Python 3",
   "language": "python",
   "name": "python3"
  },
  "language_info": {
   "codemirror_mode": {
    "name": "ipython",
    "version": 2
   },
   "file_extension": ".py",
   "mimetype": "text/x-python",
   "name": "python",
   "nbconvert_exporter": "python",
   "pygments_lexer": "ipython2",
   "version": "2.7.6"
  }
 },
 "nbformat": 4,
 "nbformat_minor": 5
}
