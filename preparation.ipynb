{
 "cells": [
  {
   "cell_type": "code",
   "execution_count": 3,
   "id": "initial_id",
   "metadata": {
    "collapsed": true,
    "ExecuteTime": {
     "end_time": "2024-02-01T09:32:57.927229498Z",
     "start_time": "2024-02-01T09:32:57.909388169Z"
    }
   },
   "outputs": [],
   "source": [
    "import pandas as pd\n",
    "from pandas import DataFrame"
   ]
  },
  {
   "cell_type": "code",
   "outputs": [],
   "source": [
    "\"\"\"\n",
    "create commit frequency dataset\n",
    "\"\"\"\n",
    "\n",
    "\n",
    "commits = pd.read_csv(\"data/commits.csv\")\n",
    "commits[\"timestamp\"] = pd.to_datetime(commits[\"timestamp\"], unit=\"s\")\n",
    "commits_grouped = commits.groupby([\"project\", \"timestamp\"]).count()\n",
    "commits_grouped = commits_grouped.reset_index()\n",
    "commits_grouped = commits_grouped.set_index(\"timestamp\")\n",
    "\n",
    "projects = sorted(commits_grouped[\"project\"].unique())\n",
    "\n",
    "combined = DataFrame()\n",
    "for project in projects:\n",
    "    # set resolution of 2 weeks\n",
    "    frequency = commits_grouped[commits_grouped[\"project\"] == project].resample(\"2W\").sum()\n",
    "    frequency = frequency.rename(columns={\"commit_hash\": \"commits_per_2weeks\"})\n",
    "    frequency[\"project\"] = project\n",
    "    combined = pd.concat([combined, frequency])\n",
    "\n",
    "combined.to_csv(\"data/commit_frequency_2W.csv\")\n",
    "\n"
   ],
   "metadata": {
    "collapsed": false,
    "ExecuteTime": {
     "end_time": "2024-02-01T09:35:58.002353612Z",
     "start_time": "2024-02-01T09:35:57.105144194Z"
    }
   },
   "id": "70cda2e61790adbb",
   "execution_count": 10
  },
  {
   "cell_type": "code",
   "outputs": [],
   "source": [
    "from pandas import DataFrame\n",
    "\n",
    "\"\"\"\n",
    "create release frequency dataset\n",
    "\"\"\"\n",
    "\n",
    "commits = pd.read_csv(\"data/releases.csv\")\n",
    "commits[\"timestamp\"] = pd.to_datetime(commits[\"timestamp\"], unit=\"s\")\n",
    "commits_grouped = commits.groupby([\"project\", \"timestamp\"]).count()\n",
    "commits_grouped = commits_grouped.reset_index()\n",
    "commits_grouped = commits_grouped.set_index(\"timestamp\")\n",
    "\n",
    "projects = sorted(commits_grouped[\"project\"].unique())\n",
    "\n",
    "combined = DataFrame()\n",
    "for project in projects:\n",
    "    # set resolution of 2 weeks\n",
    "    frequency = commits_grouped[commits_grouped[\"project\"] == project].resample(\"2W\").sum()\n",
    "    frequency = frequency.rename(columns={\"release_name\": \"releases_per_2weeks\"})\n",
    "    frequency[\"project\"] = project\n",
    "    combined = pd.concat([combined, frequency])\n",
    "\n",
    "combined.to_csv(\"data/release_frequency_2W.csv\")"
   ],
   "metadata": {
    "collapsed": false,
    "ExecuteTime": {
     "end_time": "2024-02-01T09:36:42.716957884Z",
     "start_time": "2024-02-01T09:36:42.607749088Z"
    }
   },
   "id": "57750b8c809fa75c",
   "execution_count": 11
  }
 ],
 "metadata": {
  "kernelspec": {
   "display_name": "Python 3",
   "language": "python",
   "name": "python3"
  },
  "language_info": {
   "codemirror_mode": {
    "name": "ipython",
    "version": 2
   },
   "file_extension": ".py",
   "mimetype": "text/x-python",
   "name": "python",
   "nbconvert_exporter": "python",
   "pygments_lexer": "ipython2",
   "version": "2.7.6"
  }
 },
 "nbformat": 4,
 "nbformat_minor": 5
}
