{
 "cells": [
  {
   "cell_type": "code",
   "execution_count": null,
   "id": "initial_id",
   "metadata": {
    "collapsed": true
   },
   "outputs": [],
   "source": [
    "import pandas as pd\n",
    "import matplotlib.pyplot as plt\n",
    "import os\n",
    "from pandas import DataFrame"
   ]
  },
  {
   "cell_type": "code",
   "outputs": [],
   "source": [
    "input_folder = \"data/aggregated\"\n",
    "files = os.listdir(input_folder)"
   ],
   "metadata": {
    "collapsed": false
   },
   "id": "3686e705c31b2652",
   "execution_count": null
  },
  {
   "cell_type": "code",
   "outputs": [],
   "source": [
    "num_subplots = len(files)\n",
    "num_rows = 1\n",
    "# Create subplots using the subplots function\n",
    "fig, axs = plt.subplots(int(num_subplots / num_rows), num_rows, figsize=(8, 35))\n",
    "\n",
    "for idx, file in enumerate(files):\n",
    "    name = file.split(\".\")[0].split(\"_\")[0]\n",
    "    df = pd.read_csv(f\"{input_folder}/{file}\")\n",
    "\n",
    "    axs[idx].set_title(f\"SATDs in project {name}\")\n",
    "    axs[idx].set_xlabel(\"Date\")\n",
    "    axs[idx].set_ylabel(\"Number of SATDs\")\n",
    "    df['date'] = pd.to_datetime(df['timestamp'], unit='s')\n",
    "    \n",
    "    axs[idx].plot(df[\"date\"], df[\"code|design-debt\"].cumsum(), label=\"code|design-debt\")\n",
    "    axs[idx].plot(df[\"date\"], df[\"requirement-debt\"].cumsum(), label=\"requirement-debt\")\n",
    "    axs[idx].plot(df[\"date\"], df[\"documentation-debt\"].cumsum(), label=\"documentation-debt\")\n",
    "    axs[idx].plot(df[\"date\"], df[\"test-debt\"].cumsum(), label=\"test-debt\")\n",
    "    axs[idx].legend()\n",
    "\n",
    "# Adjust layout\n",
    "\n",
    "# Show the plot\n",
    "plt.show()\n",
    "\n",
    "\n",
    "# df[\"code|design-debt\"]\n",
    "# df[\"code|design-debt\"].cumsum().plot()\n"
   ],
   "metadata": {
    "collapsed": false
   },
   "id": "1cd0b17329778731",
   "execution_count": null
  },
  {
   "cell_type": "code",
   "outputs": [],
   "source": [
    "num_subplots = len(files)\n",
    "num_rows = 1\n",
    "# Create subplots using the subplots function\n",
    "fig, axs = plt.subplots(int(num_subplots / num_rows), num_rows, figsize=(8, 35))\n",
    "\n",
    "for idx, file in enumerate(files):\n",
    "    name = file.split(\".\")[0].split(\"_\")[0]\n",
    "    df = pd.read_csv(f\"generated/{file}\")\n",
    "\n",
    "    axs[idx].set_title(f\"SADTs in project {name}\")\n",
    "    axs[idx].set_xlabel(\"Date\")\n",
    "    axs[idx].set_ylabel(\"Number of SADTs\")\n",
    "    # plt.plot(df[\"timestamp\"], df[\"code|design-debt\"].cumsum())\n",
    "    df['date'] = pd.to_datetime(df['timestamp'], unit='s')\n",
    "    axs[idx].plot(df[\"date\"], df[\"code|design-debt\"].cumsum(), label=\"code|design-debt\")\n",
    "    axs[idx].legend()\n",
    "\n",
    "# Adjust layout\n",
    "\n",
    "# Show the plot\n",
    "plt.show()"
   ],
   "metadata": {
    "collapsed": false
   },
   "id": "81f3e54319b3ed3",
   "execution_count": null
  },
  {
   "cell_type": "code",
   "outputs": [],
   "source": [
    "\n",
    "def aggregate(df: DataFrame) -> DataFrame:\n",
    "    df['date'] = pd.to_datetime(df['date'])\n",
    "    # df = df.set_index(\"date\")\n",
    "    df[\"date\"] = df[\"date\"].dt.normalize()\n",
    "    # df[\"week_start\"] = df[\"date\"] - pd.to_timedelta(df[\"date\"].dt.dayofmonth, unit='d')\n",
    "    df[\"week_start\"] = df[\"date\"].dt.to_period(\"M\").dt.to_timestamp()\n",
    "    \n",
    "    return df.groupby('week_start').size().reset_index(name='number_commits')\n",
    "    \n",
    "df2 = aggregate(pd.read_csv(\"data/aggregated_commits/druid_aggregated.csv\"))\n",
    "df3 = aggregate(pd.read_csv(\"data/aggregated_commits/dubbo_aggregated.csv\"))\n",
    "df1 = aggregate(pd.read_csv(\"data/aggregated_commits/flink_aggregated.csv\"))\n",
    "df4 = aggregate(pd.read_csv(\"data/aggregated_commits/hadoop_aggregated.csv\"))\n",
    "df5 = aggregate(pd.read_csv(\"data/aggregated_commits/pulsar_aggregated.csv\"))\n",
    "\n",
    "\n",
    "plt.figure(figsize=(20, 8))\n",
    "plt.plot(df5[\"week_start\"], df5[\"number_commits\"], label=\"pulsar\")\n",
    "plt.plot(df1[\"week_start\"], df1[\"number_commits\"], label=\"flink\")\n",
    "# plt.plot(df2[\"week_start\"], df2[\"number_commits\"], label=\"druid\")\n",
    "# plt.plot(df3[\"week_start\"], df3[\"number_commits\"], label=\"dubbo\")\n",
    "# plt.plot(df4[\"week_start\"], df4[\"number_commits\"], label=\"hadoop\")\n",
    "plt.legend()\n",
    "plt.show()\n",
    "\n",
    "\n"
   ],
   "metadata": {
    "collapsed": false
   },
   "id": "ed20786f7515dafb",
   "execution_count": null
  },
  {
   "cell_type": "code",
   "outputs": [],
   "source": [
    "commit_frequency = aggregate(pd.read_csv(\"data/aggregated_commits/hadoop_aggregated.csv\"))\n",
    "technical_debt = pd.read_csv(\"data/aggregated/hadoop_aggregated.csv\")\n",
    "technical_debt[\"timestamp\"] = pd.to_datetime(technical_debt[\"timestamp\"], unit=\"s\")\n",
    "\n",
    "fig, ax1 = plt.subplots()\n",
    "\n",
    "ax1.plot(technical_debt[\"timestamp\"], technical_debt[\"code|design-debt\"].cumsum(), label=\"requirement-debt\")\n",
    "\n",
    "ax1.plot(technical_debt[\"timestamp\"], technical_debt[\"requirement-debt\"].cumsum(), label=\"requirement-debt\")\n",
    "ax1.plot(technical_debt[\"timestamp\"], technical_debt[\"documentation-debt\"].cumsum(), label=\"documentation-debt\")\n",
    "ax1.plot(technical_debt[\"timestamp\"], technical_debt[\"test-debt\"].cumsum(), label=\"test-debt\")\n",
    "\n",
    "ax2 = ax1.twinx()\n",
    "\n",
    "ax2.plot(commit_frequency[\"week_start\"], commit_frequency[\"number_commits\"], color=\"gray\")\n",
    "\n"
   ],
   "metadata": {
    "collapsed": false
   },
   "id": "7db217275e966e1d",
   "execution_count": null
  },
  {
   "cell_type": "code",
   "outputs": [],
   "source": [
    "\n",
    "\n"
   ],
   "metadata": {
    "collapsed": false
   },
   "id": "5f5a6f963e02fbd3",
   "execution_count": null
  },
  {
   "cell_type": "code",
   "outputs": [],
   "source": [],
   "metadata": {
    "collapsed": false
   },
   "id": "52117f74f0a509a6"
  }
 ],
 "metadata": {
  "kernelspec": {
   "display_name": "Python 3",
   "language": "python",
   "name": "python3"
  },
  "language_info": {
   "codemirror_mode": {
    "name": "ipython",
    "version": 2
   },
   "file_extension": ".py",
   "mimetype": "text/x-python",
   "name": "python",
   "nbconvert_exporter": "python",
   "pygments_lexer": "ipython2",
   "version": "2.7.6"
  }
 },
 "nbformat": 4,
 "nbformat_minor": 5
}
