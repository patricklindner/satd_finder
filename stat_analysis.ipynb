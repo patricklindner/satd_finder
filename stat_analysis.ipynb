{
 "cells": [
  {
   "cell_type": "code",
   "execution_count": null,
   "id": "initial_id",
   "metadata": {
    "collapsed": true
   },
   "outputs": [],
   "source": [
    "import pandas as pd\n",
    "import matplotlib.pyplot as plt\n",
    "\n",
    "\n",
    "def print_latex_table(row: list):\n",
    "    print(\" & \".join(row) + \"\\\\\\\\\")\n"
   ]
  },
  {
   "cell_type": "code",
   "outputs": [],
   "source": [
    "df = pd.read_csv(\"data/stats-prs.csv\")\n",
    "df = df.round(3)\n",
    "x_column = \"open_prs_exact\"\n",
    "\n",
    "df = df[df[\"x_column\"] == x_column]\n",
    "for project in df[\"project\"].unique():\n",
    "    project_df = df[df[\"project\"] == project]\n",
    "    row_per_satd = []\n",
    "    for y_column in df[\"y_column\"].unique():\n",
    "        tmp = project_df[project_df[\"y_column\"] == y_column]\n",
    "        row_per_satd.append(str(tmp[\"kendal_v\"].values[0]).ljust(5, \"0\") +\" \"+ str(tmp[\"kendal_p\"].values[0]).ljust(5, \"0\"))\n",
    "    # print(row_per_satd)\n",
    "    print_latex_table([project, *row_per_satd])\n",
    "    \n",
    "df"
   ],
   "metadata": {
    "collapsed": false
   },
   "id": "d4f2437dc947ac4b",
   "execution_count": null
  },
  {
   "cell_type": "code",
   "outputs": [],
   "source": [
    "\n",
    "\n",
    "df = pd.read_csv(\"data/stats-commits.csv\")\n",
    "data = {}\n",
    "for idx, column in enumerate(df[\"y_column\"].unique()):\n",
    "    data[column] = df[df[\"y_column\"] == column][\"kendal_v\"]\n",
    "#     plt.scatter([idx]*len(data[column]), data[column], label=column)\n",
    "# \n",
    "# plt.legend()\n",
    "plt.boxplot(data.values(), labels=data.keys())\n",
    "plt.xticks(rotation=10)"
   ],
   "metadata": {
    "collapsed": false
   },
   "id": "5eb446ceb84948e1",
   "execution_count": null
  }
 ],
 "metadata": {
  "kernelspec": {
   "display_name": "Python 3",
   "language": "python",
   "name": "python3"
  },
  "language_info": {
   "codemirror_mode": {
    "name": "ipython",
    "version": 2
   },
   "file_extension": ".py",
   "mimetype": "text/x-python",
   "name": "python",
   "nbconvert_exporter": "python",
   "pygments_lexer": "ipython2",
   "version": "2.7.6"
  }
 },
 "nbformat": 4,
 "nbformat_minor": 5
}
