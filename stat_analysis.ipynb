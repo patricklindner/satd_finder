{
 "cells": [
  {
   "cell_type": "code",
   "execution_count": null,
   "id": "initial_id",
   "metadata": {
    "collapsed": true
   },
   "outputs": [],
   "source": [
    "import pandas as pd\n",
    "import matplotlib.pyplot as plt\n",
    "\n",
    "\n",
    "def print_latex_table(row: list):\n",
    "    print(\" & \".join(row) + \"\\\\\\\\\")\n",
    "    \n",
    "def make_boxplot(df, column_name, plot_path): \n",
    "    sub_df = df[df[\"y_column\"] == column_name]\n",
    "    data = {}\n",
    "    legend = []\n",
    "    for x_column in [\"commits_per_14days\", \"releases_per_60days\", \"open_prs_exact\"]:\n",
    "        interest = sub_df[sub_df[\"x_column\"] == x_column][\"kendal_v\"]\n",
    "        print(interest.std())\n",
    "        legend.append(f\"std: {round(interest.std(), 2)}: {x_column}\")\n",
    "        data[x_column] = list(interest)\n",
    "    \n",
    "    plt.ylim(-1, 1)\n",
    "    plt.title(column_name)\n",
    "    plt.boxplot(data.values(), labels=data.keys())\n",
    "    plt.legend(legend, handlelength=0, handletextpad=0)\n",
    "    plt.ylabel(\"kendal order correlation coefficient\")\n",
    "    plt.savefig(plot_path)\n",
    "    plt.show()\n"
   ]
  },
  {
   "cell_type": "code",
   "outputs": [],
   "source": [
    "df = pd.read_csv(\"data/statistics.csv\")\n",
    "df"
   ],
   "metadata": {
    "collapsed": false
   },
   "id": "6e5d4143c26b3110",
   "execution_count": null
  },
  {
   "cell_type": "code",
   "outputs": [],
   "source": [
    "\"\"\"\n",
    "RQ1\n",
    "\"\"\"\n",
    "\n",
    "make_boxplot(df, \"total_cumsum\", \"plots/rq1/total_box.png\")"
   ],
   "metadata": {
    "collapsed": false
   },
   "id": "a13f50e12a3ba1f9",
   "execution_count": null
  },
  {
   "cell_type": "code",
   "outputs": [],
   "source": [
    "\"\"\"\n",
    "RQ2\n",
    "\"\"\"\n",
    "\n",
    "for type_satd in [\"code|design-debt\", \"test-debt\", \"documentation-debt\", \"requirement-debt\"]:\n",
    "    make_boxplot(df, type_satd, f\"plots/rq1/{type_satd}_box.png\")"
   ],
   "metadata": {
    "collapsed": false
   },
   "id": "5eb446ceb84948e1",
   "execution_count": null
  },
  {
   "cell_type": "code",
   "outputs": [],
   "source": [
    "df = pd.read_csv(\"data/statistics.csv\")\n",
    "df[df['y_column'] == \"total_cumsum\"].sort_values(by=\"kendal_p\", ascending=False)"
   ],
   "metadata": {
    "collapsed": false
   },
   "id": "e810ac9514d37e08",
   "execution_count": null
  }
 ],
 "metadata": {
  "kernelspec": {
   "display_name": "Python 3",
   "language": "python",
   "name": "python3"
  },
  "language_info": {
   "codemirror_mode": {
    "name": "ipython",
    "version": 2
   },
   "file_extension": ".py",
   "mimetype": "text/x-python",
   "name": "python",
   "nbconvert_exporter": "python",
   "pygments_lexer": "ipython2",
   "version": "2.7.6"
  }
 },
 "nbformat": 4,
 "nbformat_minor": 5
}
